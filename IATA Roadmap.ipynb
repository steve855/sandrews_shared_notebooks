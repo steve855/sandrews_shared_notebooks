{
 "metadata": {
  "name": ""
 },
 "nbformat": 3,
 "nbformat_minor": 0,
 "worksheets": [
  {
   "cells": [
    {
     "cell_type": "code",
     "collapsed": false,
     "input": [
      "import numpy\n",
      "import plotly.plotly as py\n",
      "from plotly.graph_objs import Scatter, Data, Layout, Line, Figure, Annotation, Annotations, XAxis, YAxis, Margin"
     ],
     "language": "python",
     "metadata": {},
     "outputs": [],
     "prompt_number": 60
    },
    {
     "cell_type": "code",
     "collapsed": false,
     "input": [
      "data = numpy.array([\n",
      "[2003.74 , -0.0870283  , numpy.nan         , numpy.nan, numpy.nan, numpy.nan],\n",
      "[2004.17 , -0.0444247  , numpy.nan         , numpy.nan, numpy.nan, numpy.nan],\n",
      "[2004.84 , -0.0372534  , numpy.nan         , numpy.nan, numpy.nan, numpy.nan],\n",
      "[2005.7  , -0.0158753  , numpy.nan         , numpy.nan, numpy.nan, numpy.nan],\n",
      "[2006.46 , -0.0547914  , numpy.nan         , numpy.nan, numpy.nan, numpy.nan],\n",
      "[2006.95 , -0.0866494  , numpy.nan         , numpy.nan, numpy.nan, numpy.nan],\n",
      "[2007.81 , -0.118462   , numpy.nan         , numpy.nan, numpy.nan, numpy.nan],\n",
      "[2008.81 , -0.114797   , numpy.nan         , numpy.nan, numpy.nan, numpy.nan],\n",
      "[2009.77 , -0.107592   , numpy.nan         , numpy.nan, numpy.nan, numpy.nan],\n",
      "[2010.49 , -0.0838256  , numpy.nan         , numpy.nan, numpy.nan, numpy.nan],\n",
      "[2010.49 , -0.0838143  , numpy.nan         , numpy.nan, numpy.nan, numpy.nan],\n",
      "[2010.58 , -0.0806635  , numpy.nan         , numpy.nan, numpy.nan, numpy.nan],\n",
      "[2010.63 , -0.0791218  , numpy.nan         , numpy.nan, numpy.nan, numpy.nan],\n",
      "[2010.68 , -0.0782818  , numpy.nan         , numpy.nan, numpy.nan, numpy.nan],\n",
      "[2011.49 , -0.0648358  , numpy.nan         , numpy.nan, numpy.nan, numpy.nan],\n",
      "[2012.02 , -0.0498252  , numpy.nan         , numpy.nan, numpy.nan, numpy.nan],\n",
      "[2013.00 , -0.0363485  , -0.0583065  , -0.0783539 , -0.0738682  , -0.0770367],\n",
      "[2013.54 , -0.0184938  , -0.03903    , -0.0614529 , -0.0599428  , -0.0649165],\n",
      "[2013.88 , -0.00584678 , -0.032812   , -0.0560011 , -0.0554508  , -0.0610069],\n",
      "[2014.69 , 0.0241946   , -0.0180419  , -0.0430511 , -0.0447808  , -0.0499037],\n",
      "[2015.7  , 0.0555621   , 0.000493928 , -0.0267995 , -0.0313905  , -0.0359696],\n",
      "[2017.42 , 0.108965    , 0.0320509   , 0.00086862 , -0.00859356 , -0.0144896],\n",
      "[2019.09 , 0.160893    , 0.0627364   , 0.0277727  , 0.0135738   , 0.0034386],\n",
      "[2020.86 , 0.215791    , 0.0951772   , 0.0562158  , 0.0370092   , 0.0213782],\n",
      "[2023.01 , 0.282486    , 0.134589    , 0.090771   , 0.0654806   , 0.0677314],\n",
      "[2025.64 , 0.364107    , 0.182821    , 0.133059   , 0.100323    , 0.0893188],\n",
      "[2026.88 , 0.402679    , 0.205614    , 0.153043   , 0.116789    , 0.10365],\n",
      "[2028.36 , 0.448708    , 0.232814    , 0.176891   , 0.136439    , 0.107372],\n",
      "[2029.85 , 0.494727    , 0.260008    , 0.200734   , 0.156084    , 0.114639],\n",
      "[2031.09 , 0.533352    , 0.282832    , 0.220746   , 0.172572    , 0.11124],\n",
      "[2033.05 , 0.594254    , 0.318821    , 0.252299   , 0.19857     , 0.107926],\n",
      "[2034.82 , 0.649247    , 0.351317    , 0.280792   , 0.222046    , 0.0939508],\n",
      "[2036.26 , 0.693896    , 0.377702    , 0.303925   , 0.241107    , 0.0622059],\n",
      "[2037.84 , 0.742991    , 0.406713    , 0.329361   , 0.262064    , 0.0340241],\n",
      "[2039.48 , 0.793644    , 0.436646    , 0.355605   , 0.283688    , -0.0189745],\n",
      "[2041.3  , 0.850301    , 0.470126    , 0.384959   , 0.307874    , -0.0932269],\n",
      "[2042.84 , 0.898027    , 0.498328    , 0.409686   , 0.328247    , -0.160421],\n",
      "[2044.47 , 0.948764    , 0.52831     , 0.435973   , 0.349907    , -0.241788],\n",
      "[2046.25 , 1.00396     , 0.560925    , 0.464569   , 0.373468    , -0.323138],\n",
      "[2048.51 , 1.07407     , 0.602354    , 0.500892   , 0.403396    , -0.425708],\n",
      "[2049.89 , 1.11701     , 0.62773     , 0.523142   , 0.421728    , -0.511033],\n",
      "[2049.91 , 1.11759     , 0.628072    , 0.523442   , 0.421975    , -0.512184],\n",
      "[2050    , 1.12025     , 0.629647    , 0.524822   , 0.423113    , -0.517479],\n",
      "[2050    , 1.12038     , 0.629722    , 0.524888   , 0.423167    , -0.51773],\n",
      "[2050.08 , 1.12291     , 0.631216    , 0.526198   , 0.424246    , -0.522753]])\n"
     ],
     "language": "python",
     "metadata": {},
     "outputs": [],
     "prompt_number": 61
    },
    {
     "cell_type": "code",
     "collapsed": false,
     "input": [
      "labels =[\"Incremental Technology Changes<BR><sub>High bypass engine, composite structures</sub>\",\n",
      "         \"Improvements in Operations<BR><sub>FAA Next-Gen, SESAR</sub>\",\n",
      "         \"Improvements in Infrastructure<BR><sub>Urban fields, electric tugs</sub>\",\n",
      "         \"Biofules and Radical Tech<BR><sub>Unconventional configurations, hybrid propulsion</sub>\"]\n",
      "\n",
      "annotations = []\n",
      "for i in xrange(len(labels)):\n",
      "    if i%2 == 0:\n",
      "        pm = 1\n",
      "    else:\n",
      "        pm = -1\n",
      "    #end\n",
      "    annotations.append(Annotation(text = labels[i], x = 2050, y = 0.5 * (data[-1,i+1] + data[-1,i+2]),\n",
      "                       ax = 125, ay = pm *10, showarrow = True, xanchor = 'left', yanchor = 'center'))\n",
      "\n",
      "annotations.append(Annotation(text = \"Market Based Measures<BR><sub>carbon tax</sub>\", x = 2030, y = 0.05,\n",
      "                              ax = 0, ay = 50, showarrow = True, xanchor = 'center', yanchor = 'center'))\n",
      "annotations.append(Annotation(text = \"Source: 'IATA Technology roadmap 2013'\", xref = 'paper', yref = 'paper', x = 1, y = 0,\n",
      "                              showarrow = False, xanchor = 'right', yanchor = 'bottom'))"
     ],
     "language": "python",
     "metadata": {},
     "outputs": [],
     "prompt_number": 121
    },
    {
     "cell_type": "code",
     "collapsed": false,
     "input": [
      "layout = Layout(annotations = Annotations(annotations), \n",
      "                showlegend = False, \n",
      "                autosize = False,\n",
      "                width = 700,\n",
      "                height = 500,\n",
      "                margin = Margin(autoexpand = False),\n",
      "                title = \"The IATA Roadmap for Carbon Neutral Growth in Civil Aviation from 2020\",\n",
      "                xaxis = XAxis(title = \"Year\"), \n",
      "                yaxis= YAxis(title = \"Change in Civil Aviation CO<sub>2</sub> Emissions<BR><sub>Relative to 2020 baseline</sub>\"))"
     ],
     "language": "python",
     "metadata": {},
     "outputs": [],
     "prompt_number": 126
    },
    {
     "cell_type": "code",
     "collapsed": false,
     "input": [
      "pldata = []\n",
      "pldata.append(Scatter(x = data[:,0], y = data[:,1], fill = 'tonexty', line = Line(shape = 'spline')))\n",
      "pldata.append(Scatter(x = data[15:,0], y = data[15:,2], fill = 'tonexty'))\n",
      "pldata.append(Scatter(x = data[15:,0], y = data[15:,3], fill = 'tonexty'))\n",
      "pldata.append(Scatter(x = data[15:,0], y = data[15:,4], fill = 'tonexty'))\n",
      "pldata.append(Scatter(x = data[15:,0], y = data[15:,5], fill = 'tozeroy'))\n",
      "# pldata.append(Scatter(x = numpy.array([2020,2050]), y = numpy.array([0.0,0.0])))\n"
     ],
     "language": "python",
     "metadata": {},
     "outputs": [],
     "prompt_number": 127
    },
    {
     "cell_type": "code",
     "collapsed": false,
     "input": [
      "fig = Figure(data = Data(pldata), layout = layout)\n",
      "py.iplot(fig)"
     ],
     "language": "python",
     "metadata": {},
     "outputs": [
      {
       "html": [
        "<iframe id=\"igraph\" scrolling=\"no\" style=\"border:none;\"seamless=\"seamless\" src=\"https://plot.ly/~sandrews/397.embed\" height=\"525\" width=\"100%\"></iframe>"
       ],
       "metadata": {},
       "output_type": "pyout",
       "prompt_number": 128,
       "text": [
        "<plotly.tools.PlotlyDisplay at 0x7f2773567a50>"
       ]
      }
     ],
     "prompt_number": 128
    },
    {
     "cell_type": "code",
     "collapsed": false,
     "input": [
      "py.plot(fig, filename = 'Projects/IATA_roadmap', overwrite = True)"
     ],
     "language": "python",
     "metadata": {},
     "outputs": [
      {
       "metadata": {},
       "output_type": "pyout",
       "prompt_number": 129,
       "text": [
        "u'https://plot.ly/~sandrews/394'"
       ]
      }
     ],
     "prompt_number": 129
    },
    {
     "cell_type": "code",
     "collapsed": false,
     "input": [],
     "language": "python",
     "metadata": {},
     "outputs": []
    }
   ],
   "metadata": {}
  }
 ]
}